{
 "cells": [
  {
   "cell_type": "code",
   "execution_count": 50,
   "metadata": {},
   "outputs": [],
   "source": [
    "out_file = open('out.kml','w')\n",
    "out_file.write('''<?xml version=\"1.0\" encoding=\"UTF-8\"?>\n",
    "<kml xmlns=\"http://earth.google.com/kml/2.2\">\n",
    "<!-- \n",
    "\n",
    "TimeStamp is recommended for Point.\n",
    "\n",
    "Each Point represents a sample from a GPS.\n",
    "\n",
    "-->\n",
    "\n",
    "  <Document>\n",
    "    <name>Points with TimeStamps</name>\n",
    "\t<Style id=\"sn_cabs3\">\n",
    "\t\t<IconStyle>\n",
    "\t\t\t<color>ff0000ff</color>\n",
    "\t\t\t<scale>0.7</scale>\n",
    "\t\t\t<Icon>\n",
    "\t\t\t\t<href>http://maps.google.com/mapfiles/kml/shapes/cabs.png</href>\n",
    "\t\t\t</Icon>\n",
    "\t\t\t<hotSpot x=\"0.5\" y=\"0\" xunits=\"fraction\" yunits=\"fraction\"/>\n",
    "\t\t</IconStyle>\n",
    "\t\t<ListStyle>\n",
    "\t\t</ListStyle>\n",
    "\t</Style>\n",
    "\t<Style id=\"sh_cabs3\">\n",
    "\t\t<IconStyle>\n",
    "\t\t\t<color>ff0000ff</color>\n",
    "\t\t\t<scale>0.816667</scale>\n",
    "\t\t\t<Icon>\n",
    "\t\t\t\t<href>http://maps.google.com/mapfiles/kml/shapes/cabs.png</href>\n",
    "\t\t\t</Icon>\n",
    "\t\t\t<hotSpot x=\"0.5\" y=\"0\" xunits=\"fraction\" yunits=\"fraction\"/>\n",
    "\t\t</IconStyle>\n",
    "\t\t<ListStyle>\n",
    "\t\t</ListStyle>\n",
    "\t</Style>\n",
    "\t<StyleMap id=\"msn_cabs3\">\n",
    "\t\t<Pair>\n",
    "\t\t\t<key>normal</key>\n",
    "\t\t\t<styleUrl>#sn_cabs3</styleUrl>\n",
    "\t\t</Pair>\n",
    "\t\t<Pair>\n",
    "\t\t\t<key>highlight</key>\n",
    "\t\t\t<styleUrl>#sh_cabs3</styleUrl>\n",
    "\t\t</Pair>\n",
    "\t</StyleMap>\n",
    "\n",
    "\t<Style id=\"sn_cabs2\">\n",
    "\t\t<IconStyle>\n",
    "\t\t\t<color>ffff0000</color>\n",
    "\t\t\t<scale>0.7</scale>\n",
    "\t\t\t<Icon>\n",
    "\t\t\t\t<href>http://maps.google.com/mapfiles/kml/shapes/cabs.png</href>\n",
    "\t\t\t</Icon>\n",
    "\t\t\t<hotSpot x=\"0.5\" y=\"0\" xunits=\"fraction\" yunits=\"fraction\"/>\n",
    "\t\t</IconStyle>\n",
    "\t\t<ListStyle>\n",
    "\t\t</ListStyle>\n",
    "\t</Style>\n",
    "\t<Style id=\"sh_cabs2\">\n",
    "\t\t<IconStyle>\n",
    "\t\t\t<color>ffff0000</color>\n",
    "\t\t\t<scale>0.816667</scale>\n",
    "\t\t\t<Icon>\n",
    "\t\t\t\t<href>http://maps.google.com/mapfiles/kml/shapes/cabs.png</href>\n",
    "\t\t\t</Icon>\n",
    "\t\t\t<hotSpot x=\"0.5\" y=\"0\" xunits=\"fraction\" yunits=\"fraction\"/>\n",
    "\t\t</IconStyle>\n",
    "\t\t<ListStyle>\n",
    "\t\t</ListStyle>\n",
    "\t</Style>\n",
    "\t<StyleMap id=\"msn_cabs2\">\n",
    "\t\t<Pair>\n",
    "\t\t\t<key>normal</key>\n",
    "\t\t\t<styleUrl>#sn_cabs2</styleUrl>\n",
    "\t\t</Pair>\n",
    "\t\t<Pair>\n",
    "\t\t\t<key>highlight</key>\n",
    "\t\t\t<styleUrl>#sh_cabs2</styleUrl>\n",
    "\t\t</Pair>\n",
    "\t</StyleMap>\n",
    "\n",
    "\t<StyleMap id=\"msn_cabs1\">\n",
    "\t\t<Pair>\n",
    "\t\t\t<key>normal</key>\n",
    "\t\t\t<styleUrl>#sn_cabs1</styleUrl>\n",
    "\t\t</Pair>\n",
    "\t\t<Pair>\n",
    "\t\t\t<key>highlight</key>\n",
    "\t\t\t<styleUrl>#sh_cabs1</styleUrl>\n",
    "\t\t</Pair>\n",
    "\t</StyleMap>\n",
    "\t<Style id=\"sh_cabs1\">\n",
    "\t\t<IconStyle>\n",
    "\t\t\t<color>ff00ff00</color>\n",
    "\t\t\t<scale>0.7</scale>\n",
    "\t\t\t<Icon>\n",
    "\t\t\t\t<href>http://maps.google.com/mapfiles/kml/shapes/cabs.png</href>\n",
    "\t\t\t</Icon>\n",
    "\t\t\t<hotSpot x=\"0.5\" y=\"0\" xunits=\"fraction\" yunits=\"fraction\"/>\n",
    "\t\t</IconStyle>\n",
    "\t\t<ListStyle>\n",
    "\t\t</ListStyle>\n",
    "\t</Style>\n",
    "\t<Style id=\"sn_cabs1\">\n",
    "\t\t<IconStyle>\n",
    "\t\t\t<color>ff00ff00</color>\n",
    "\t\t\t<scale>0.7</scale>\n",
    "\t\t\t<Icon>\n",
    "\t\t\t\t<href>http://maps.google.com/mapfiles/kml/shapes/cabs.png</href>\n",
    "\t\t\t</Icon>\n",
    "\t\t\t<hotSpot x=\"0.5\" y=\"0\" xunits=\"fraction\" yunits=\"fraction\"/>\n",
    "\t\t</IconStyle>\n",
    "\t\t<ListStyle>\n",
    "\t\t</ListStyle>\n",
    "\t</Style>''')\n",
    "\n",
    "# open input csv file \n",
    "in_file = open('input_prj3.csv','r')\n",
    "content = in_file.readlines()\n",
    "first_line=True\n",
    "for c in content:\n",
    "    c=c.strip()\n",
    "    s = c.split(\",\")\n",
    "    if len(s)<3:\n",
    "        continue\n",
    "    if first_line:\n",
    "        first_line = False\n",
    "        continue\n",
    "    if s[0] == 'v1':\n",
    "        v1_time = s[1]\n",
    "        v1_long = s[2]\n",
    "        v1_lat = s[3]\n",
    "        out_file.write('<Placemark><TimeStamp><when>'+str(v1_time)+'</when>'+'</TimeStamp><styleUrl>#msn_cabs1</styleUrl><Point><coordinates>'+v1_long+','+v1_lat+',0</coordinates></Point></Placemark>\\n')\n",
    "    if s[0] == 'v2':\n",
    "        v2_time = s[1]\n",
    "        v2_long  = s[2]\n",
    "        v2_lat = s[3]\n",
    "        out_file.write('<Placemark><TimeStamp><when>'+str(v1_time)+'</when>'+'</TimeStamp><styleUrl>#msn_cabs2</styleUrl><Point><coordinates>'+v2_long+','+v2_lat+',0</coordinates></Point></Placemark>\\n')\n",
    "out_file.write('''\t</Document>                                                                                                           \n",
    "</kml>''')\n",
    "out_file.close()"
   ]
  },
  {
   "cell_type": "code",
   "execution_count": 31,
   "metadata": {},
   "outputs": [
    {
     "data": {
      "text/plain": [
       "178"
      ]
     },
     "execution_count": 31,
     "metadata": {},
     "output_type": "execute_result"
    }
   ],
   "source": [
    "len(content)"
   ]
  },
  {
   "cell_type": "code",
   "execution_count": 34,
   "metadata": {},
   "outputs": [
    {
     "data": {
      "text/plain": [
       "36"
      ]
     },
     "execution_count": 34,
     "metadata": {},
     "output_type": "execute_result"
    }
   ],
   "source": [
    "out_file.write(content[0])"
   ]
  },
  {
   "cell_type": "code",
   "execution_count": 29,
   "metadata": {},
   "outputs": [
    {
     "ename": "IndexError",
     "evalue": "list index out of range",
     "output_type": "error",
     "traceback": [
      "\u001b[1;31m---------------------------------------------------------------------------\u001b[0m",
      "\u001b[1;31mIndexError\u001b[0m                                Traceback (most recent call last)",
      "\u001b[1;32m<ipython-input-29-e24a7c14953b>\u001b[0m in \u001b[0;36m<module>\u001b[1;34m()\u001b[0m\n\u001b[0;32m    129\u001b[0m         \u001b[0msplt\u001b[0m\u001b[1;33m=\u001b[0m \u001b[0ml\u001b[0m\u001b[1;33m.\u001b[0m\u001b[0msplit\u001b[0m\u001b[1;33m(\u001b[0m\u001b[1;34m\",\"\u001b[0m\u001b[1;33m)\u001b[0m\u001b[1;33m\u001b[0m\u001b[0m\n\u001b[0;32m    130\u001b[0m         \u001b[1;31m#print(str(splt[1]))\u001b[0m\u001b[1;33m\u001b[0m\u001b[1;33m\u001b[0m\u001b[0m\n\u001b[1;32m--> 131\u001b[1;33m         \u001b[0mtime\u001b[0m\u001b[1;33m.\u001b[0m\u001b[0mappend\u001b[0m\u001b[1;33m(\u001b[0m\u001b[0mstr\u001b[0m\u001b[1;33m(\u001b[0m\u001b[0msplt\u001b[0m\u001b[1;33m[\u001b[0m\u001b[1;36m1\u001b[0m\u001b[1;33m]\u001b[0m\u001b[1;33m)\u001b[0m\u001b[1;33m)\u001b[0m\u001b[1;33m\u001b[0m\u001b[0m\n\u001b[0m\u001b[0;32m    132\u001b[0m         \u001b[1;31m#out_file.write(\"\\n\")\u001b[0m\u001b[1;33m\u001b[0m\u001b[1;33m\u001b[0m\u001b[0m\n\u001b[0;32m    133\u001b[0m \u001b[1;32mfor\u001b[0m \u001b[0mi\u001b[0m \u001b[1;32min\u001b[0m \u001b[0mrange\u001b[0m\u001b[1;33m(\u001b[0m\u001b[0mlen\u001b[0m\u001b[1;33m(\u001b[0m\u001b[0mtime\u001b[0m\u001b[1;33m)\u001b[0m\u001b[1;33m)\u001b[0m\u001b[1;33m:\u001b[0m\u001b[1;33m\u001b[0m\u001b[0m\n",
      "\u001b[1;31mIndexError\u001b[0m: list index out of range"
     ]
    }
   ],
   "source": [
    "#for l in content:\n",
    "#    splt = l.split(\",\")\n",
    "    #print(splt[1])\n",
    "#    out_file.write(str(splt[1]))\n",
    "#    out_file.write(\"\\n\")\n",
    "#time = []\n",
    "#with open ('input_prj3.csv','r') as inp:\n",
    "#    for l in inp:\n",
    "#        splt= l.split(\",\")\n",
    "        #print(str(splt[1]))\n",
    "#        time.append(str(splt[1]))\n",
    "        #out_file.write(\"\\n\")\n",
    "for i in range(len(time)):\n",
    "    out_file.write(time[i])\n",
    "\n",
    "#out_file.close()\n",
    "#in_file.close()"
   ]
  },
  {
   "cell_type": "code",
   "execution_count": null,
   "metadata": {},
   "outputs": [],
   "source": []
  }
 ],
 "metadata": {
  "kernelspec": {
   "display_name": "Python 3",
   "language": "python",
   "name": "python3"
  },
  "language_info": {
   "codemirror_mode": {
    "name": "ipython",
    "version": 3
   },
   "file_extension": ".py",
   "mimetype": "text/x-python",
   "name": "python",
   "nbconvert_exporter": "python",
   "pygments_lexer": "ipython3",
   "version": "3.6.4"
  }
 },
 "nbformat": 4,
 "nbformat_minor": 2
}
