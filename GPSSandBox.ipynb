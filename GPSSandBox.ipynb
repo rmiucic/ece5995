{
 "cells": [
  {
   "cell_type": "markdown",
   "metadata": {},
   "source": [
    "# GPS Functions example\n",
    "<img src=\"images/lat_long.png\" style=\"width:500px;height:261px;\">\n",
    "<caption><center> <u> <font color='purple'> **Figure 1** </u><font color='purple'>  : **Latitude and Longitude**</center></caption>"
   ]
  },
  {
   "cell_type": "markdown",
   "metadata": {},
   "source": [
    "Import package needed for computation of GPS functions"
   ]
  },
  {
   "cell_type": "code",
   "execution_count": 20,
   "metadata": {},
   "outputs": [],
   "source": [
    "import math\n",
    "import numpy"
   ]
  },
  {
   "cell_type": "markdown",
   "metadata": {},
   "source": [
    "GPSDistance is function that calculates distance between two points in meters."
   ]
  },
  {
   "cell_type": "code",
   "execution_count": 21,
   "metadata": {},
   "outputs": [],
   "source": [
    "def GPSDistance(lat1_deg,long1_deg,lat2_deg,long2_deg):\n",
    "# given latitude and longidude of two points return distance between them.\n",
    "    R=6.371*math.pow(10,6)          #earth radius\n",
    "    lat1_=lat1_deg*math.pi/180      #convert degrees into radians\n",
    "    lat2_=lat2_deg*math.pi/180\n",
    "    long1_=long1_deg*math.pi/180\n",
    "    long2_=long2_deg*math.pi/180\n",
    "    distance=R*math.sqrt(2-2*math.cos(lat1_)*math.cos(lat2_)*math.cos(long1_-long2_)-2*math.sin(lat1_)*math.sin(lat2_))\n",
    "    return distance\n"
   ]
  },
  {
   "cell_type": "markdown",
   "metadata": {},
   "source": [
    "### GPSDistance example\n",
    "<img src=\"images/A_B_xy.png\" style=\"width:600px;height:300px;\">\n",
    "<caption><center> <u> <font color='purple'> **Figure 2** </u><font color='purple'>  : **Distance between A and B**</center></caption>"
   ]
  },
  {
   "cell_type": "code",
   "execution_count": 22,
   "metadata": {},
   "outputs": [
    {
     "name": "stdout",
     "output_type": "stream",
     "text": [
      "615.8989739370114\n"
     ]
    }
   ],
   "source": [
    "long_A = -83.07080980981773\n",
    "lat_A  = 42.35522522534328\n",
    "\n",
    "long_B = -83.07826780460462\n",
    "lat_B  = 42.35577760447024\n",
    "\n",
    "distance = GPSDistance(lat_A,long_A,lat_B,long_B)\n",
    "print(distance)"
   ]
  },
  {
   "cell_type": "markdown",
   "metadata": {},
   "source": [
    "Distance is the same between (A and B) and (B and A)"
   ]
  },
  {
   "cell_type": "code",
   "execution_count": 23,
   "metadata": {},
   "outputs": [
    {
     "name": "stdout",
     "output_type": "stream",
     "text": [
      "615.8989739370114\n"
     ]
    }
   ],
   "source": [
    "distance = GPSDistance(lat_B,long_B,lat_A,long_A)\n",
    "print(distance)"
   ]
  },
  {
   "cell_type": "code",
   "execution_count": 24,
   "metadata": {},
   "outputs": [
    {
     "name": "stdout",
     "output_type": "stream",
     "text": [
      "0.0\n"
     ]
    }
   ],
   "source": [
    "distance = GPSDistance(lat_A,long_A,lat_A,long_A)\n",
    "print(distance)"
   ]
  },
  {
   "cell_type": "markdown",
   "metadata": {},
   "source": [
    "Latitude and longitude to Catresian coordinate conversion <br>\n",
    "XfromGPS return X in meters and YfromGPS return Y in meters"
   ]
  },
  {
   "cell_type": "code",
   "execution_count": 25,
   "metadata": {},
   "outputs": [],
   "source": [
    "def XfromGPS(lat1_deg,long1_deg,lat2_deg,long2_deg):\n",
    "    R=6.371*math.pow(10,6)          #earth radius\n",
    "    lat1_ =lat1_deg*math.pi/180     #convert degrees into radians\n",
    "    lat2_ =lat2_deg*math.pi/180\n",
    "    long1_ =long1_deg*math.pi/180\n",
    "    long2_ =long2_deg*math.pi/180\n",
    "    x = numpy.array(R*(long2_-long1_)*numpy.cos(lat1_))\n",
    "    return x\n",
    "\n",
    "def YfromGPS(lat1_deg,long1_deg,lat2_deg,long2_deg):\n",
    "    R=6.371*math.pow(10,6)           #earth radius\n",
    "    lat1_ =lat1_deg*math.pi/180      #convert degrees into radians\n",
    "    lat2_ =lat2_deg*math.pi/180\n",
    "    long1_ =long1_deg*math.pi/180\n",
    "    long2_ =long2_deg*math.pi/180\n",
    "    y = numpy.array(R*(lat2_-lat1_))\n",
    "    return y\n"
   ]
  },
  {
   "cell_type": "markdown",
   "metadata": {},
   "source": [
    "See Figure 2"
   ]
  },
  {
   "cell_type": "code",
   "execution_count": 26,
   "metadata": {},
   "outputs": [
    {
     "name": "stdout",
     "output_type": "stream",
     "text": [
      "x= -612.8313071946275\n",
      "y= 61.42175650296367\n"
     ]
    }
   ],
   "source": [
    "x=XfromGPS(lat_A,long_A,lat_B,long_B)\n",
    "y=YfromGPS(lat_A,long_A,lat_B,long_B)\n",
    "print('x=',x)\n",
    "print('y=',y)\n"
   ]
  },
  {
   "cell_type": "markdown",
   "metadata": {},
   "source": [
    "<img src=\"images/B_A_xy.png\" style=\"width:600px;height:300px;\">\n",
    "<caption><center> <u> <font color='purple'> **Figure 3** </u><font color='purple'>  : **Distance between A and B**</center></caption>"
   ]
  },
  {
   "cell_type": "code",
   "execution_count": 27,
   "metadata": {},
   "outputs": [
    {
     "name": "stdout",
     "output_type": "stream",
     "text": [
      "x= 612.8259206941733\n",
      "y= -61.42175650296367\n"
     ]
    }
   ],
   "source": [
    "x=XfromGPS(lat_B,long_B,lat_A,long_A)\n",
    "y=YfromGPS(lat_B,long_B,lat_A,long_A)\n",
    "print('x=',x)\n",
    "print('y=',y)"
   ]
  },
  {
   "cell_type": "code",
   "execution_count": 28,
   "metadata": {},
   "outputs": [],
   "source": [
    "def BfromGPS(lat1_deg,long1_deg,lat2_deg,long2_deg):\n",
    "    R=6.371*math.pow(10,6)           #earth radius\n",
    "    lat1_ =lat1_deg*math.pi/180      #convert degrees into radians\n",
    "    lat2_ =lat2_deg*math.pi/180\n",
    "    long1_ =long1_deg*math.pi/180\n",
    "    long2_ =long2_deg*math.pi/180\n",
    "    y = numpy.array(R*(lat2_-lat1_))\n",
    "    x = numpy.array(R*(long2_-long1_)*numpy.cos(lat1_))\n",
    "    b = numpy.array(numpy.arctan2(x,y)*180/math.pi)\n",
    "    return b\n"
   ]
  },
  {
   "cell_type": "markdown",
   "metadata": {},
   "source": [
    "<img src=\"images/A_B_C_bearing.png\" style=\"width:600px;height:300px;\">\n",
    "<caption><center> <u> <font color='purple'> **Figure 4** </u><font color='purple'>  : **Distance between A and B**</center></caption>"
   ]
  },
  {
   "cell_type": "code",
   "execution_count": 29,
   "metadata": {},
   "outputs": [
    {
     "name": "stdout",
     "output_type": "stream",
     "text": [
      "bearing -84.27657485529225\n"
     ]
    }
   ],
   "source": [
    "bearing  = BfromGPS(lat_A,long_A,lat_B,long_B)\n",
    "print('bearing',bearing)"
   ]
  },
  {
   "cell_type": "code",
   "execution_count": 30,
   "metadata": {},
   "outputs": [],
   "source": [
    "long_C = -83.06880599689933\n",
    "lat_C  = 42.35639676063578"
   ]
  },
  {
   "cell_type": "code",
   "execution_count": 31,
   "metadata": {},
   "outputs": [
    {
     "name": "stdout",
     "output_type": "stream",
     "text": [
      "bearing 51.65036532594294\n"
     ]
    }
   ],
   "source": [
    "bearing  = BfromGPS(lat_A,long_A,lat_C,long_C)\n",
    "print('bearing',bearing)"
   ]
  },
  {
   "cell_type": "code",
   "execution_count": 32,
   "metadata": {},
   "outputs": [],
   "source": [
    "long_D = -83.07098976619267\n",
    "lat_D  = 42.3535704374795"
   ]
  },
  {
   "cell_type": "code",
   "execution_count": 33,
   "metadata": {},
   "outputs": [
    {
     "name": "stdout",
     "output_type": "stream",
     "text": [
      "bearing -175.40538517299893\n"
     ]
    }
   ],
   "source": [
    "bearing  = BfromGPS(lat_A,long_A,lat_D,long_D)\n",
    "print('bearing',bearing)"
   ]
  },
  {
   "cell_type": "code",
   "execution_count": 34,
   "metadata": {},
   "outputs": [],
   "source": [
    "def BfromXY(x,y):\n",
    "    b = numpy.array(numpy.arctan2(x,y)*180/math.pi)\n",
    "    return b    "
   ]
  },
  {
   "cell_type": "code",
   "execution_count": 35,
   "metadata": {},
   "outputs": [
    {
     "name": "stdout",
     "output_type": "stream",
     "text": [
      "bearing -84.27657485529225\n"
     ]
    }
   ],
   "source": [
    "x= -612.8313071946275\n",
    "y= 61.42175650296367\n",
    "bearing = BfromXY(x,y)\n",
    "print('bearing',bearing)"
   ]
  },
  {
   "cell_type": "code",
   "execution_count": null,
   "metadata": {},
   "outputs": [],
   "source": []
  }
 ],
 "metadata": {
  "kernelspec": {
   "display_name": "Python 3",
   "language": "python",
   "name": "python3"
  },
  "language_info": {
   "codemirror_mode": {
    "name": "ipython",
    "version": 3
   },
   "file_extension": ".py",
   "mimetype": "text/x-python",
   "name": "python",
   "nbconvert_exporter": "python",
   "pygments_lexer": "ipython3",
   "version": "3.6.4"
  }
 },
 "nbformat": 4,
 "nbformat_minor": 2
}
